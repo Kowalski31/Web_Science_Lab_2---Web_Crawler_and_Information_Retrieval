{
 "cells": [
  {
   "attachments": {},
   "cell_type": "markdown",
   "metadata": {
    "id": "EaqjihtwRrys"
   },
   "source": [
    "# Lab03: Web Crawler (Continue) & Information Retrieval.\n",
    "\n",
    "- MSSV: 19120689\n",
    "- Họ và tên: Lại Khánh Toàn"
   ]
  },
  {
   "cell_type": "markdown",
   "metadata": {
    "id": "FUG7FFTsRryt"
   },
   "source": [
    "## Yêu cầu bài tập\n",
    "\n",
    "**Cách làm bài**\n",
    "\n",
    "\n",
    "Bạn sẽ làm trực tiếp trên file notebook này; từ `TODO` cho biết những phần mà bạn cần phải làm.\n",
    "\n",
    "Bạn có thể thảo luận ý tưởng cũng như tham khảo các tài liệu, nhưng *code và bài làm phải là của bạn*. \n",
    "\n",
    "Nếu vi phạm thì sẽ bị 0 điểm cho bài tập này.\n",
    "\n",
    "**Cách nộp bài**\n",
    "\n",
    "Trước khi nộp bài, rerun lại notebook (`Kernel` -> `Restart & Run All`).\n",
    "\n",
    "Sau đó, tạo thư mục có tên `MSSV` của bạn (vd, nếu bạn có MSSV là 1234567 thì bạn đặt tên thư mục là `1234567`) Chép file notebook, file `t_data.txt` và file `raw_data` của các bạn (nếu file này kích thước lớn các bạn có thể chép link vào `link_data.txt`), nén thư mục `MSSV` này lại và nộp trên moodle.\n",
    "\n",
    "**Nội dung bài tập**\n",
    "\n",
    "Cài đặt một web crawler để thu thập dữ liệu từ: https://en.wikipedia.org/wiki/Web_mining."
   ]
  },
  {
   "cell_type": "markdown",
   "metadata": {
    "id": "0HlhdT6BRryu"
   },
   "source": [
    "## Nội dung bài tập"
   ]
  },
  {
   "cell_type": "markdown",
   "metadata": {
    "id": "c9-ZyiLjRryv"
   },
   "source": [
    "Cài đặt một Web crawler đơn giản bắt đầu từ URL: https://en.wikipedia.org/wiki/Web_mining, tìm liên kết và thu thập dữ liệu trong HTML tại URL này sau đó lặp lại với các URL vừa tìm được.\n"
   ]
  },
  {
   "cell_type": "code",
   "execution_count": 1,
   "metadata": {
    "id": "FJktAwbCOyod"
   },
   "outputs": [],
   "source": [
    "import requests\n",
    "import re\n",
    "from bs4 import BeautifulSoup\n",
    "from bs4.element import Comment\n",
    "import string\n",
    "import pickle"
   ]
  },
  {
   "cell_type": "markdown",
   "metadata": {
    "id": "mMSlOpSsRryv"
   },
   "source": [
    "## 1. Thu thập đường dẫn"
   ]
  },
  {
   "cell_type": "markdown",
   "metadata": {
    "id": "OZZ9lSUPRryw"
   },
   "source": [
    "- Robot.txt:  https://en.wikipedia.org/robots.txt\n",
    "- **Bước 1**: Thu thập đường dẫn từ https://en.wikipedia.org/wiki/Web_mining. Lưu trữ vào một danh sách `url_list`. \n",
    "- **Bước 2**: Lặp lại bước 1 cho các đường dẫn trong `url_list` (**lưu ý:** kiểm tra các đường dẫn vừa thu được đã nằm trong `url_list` hay không?). Dừng khi đã thu thập được 200 URLs."
   ]
  },
  {
   "cell_type": "code",
   "execution_count": 5,
   "metadata": {
    "id": "4HFWqw1VOrEe"
   },
   "outputs": [],
   "source": [
    "def get_urls(url):\n",
    "    r = requests.get(url)\n",
    "    soup = BeautifulSoup(r.text, 'html.parser')\n",
    "    urls = []\n",
    "    \n",
    "    # TODO\n",
    "    # Lấy các url nằm trong trang web của url này, lưu lại vào biến urls\n",
    "    for link in soup.find_all('a', href= re.compile('http[s]?://(?:[-\\w.])+')):\n",
    "        urls.append(link.get('href'))\n",
    "    return urls\n",
    "\n",
    "\n",
    "def get_urls_recursive(start_url, limit):\n",
    "    urls = [start_url]\n",
    "    for url in urls:\n",
    "        # TODO\n",
    "        # Lấy các url nằm trong trang web của url này, lưu lại vào biến new_urls\n",
    "        # Với mỗi url mới trong new_urls:\n",
    "        #   Nếu nó chưa nằm trong urls thì thêm nó vô  \n",
    "        # Nếu kích thước của urls vượt quá limit thì dừng và xóa phần dư thừa\n",
    "        new_urls = get_urls(url)\n",
    "        for url in new_urls:\n",
    "            if url not in urls:\n",
    "                urls.append(url)\n",
    "        if len(urls) > limit:\n",
    "            urls = urls[:limit]\n",
    "            break\n",
    "    return urls\n",
    "url_list = get_urls_recursive('https://en.wikipedia.org/wiki/Web_mining', 90)"
   ]
  },
  {
   "cell_type": "markdown",
   "metadata": {
    "id": "zk4ty3jcRryx"
   },
   "source": [
    "## 2. Thu thập dữ liệu\n",
    "Thu thập dữ liệu từ `url_list`. Lưu trữ dữ liệu thu được vào dictionary data với keys là các từ, values gồm 2 phần tử: \n",
    "- `url_idx_list` với $idx \\in \\left[0,200\\right) \\cap \\mathbb{N}$\n",
    "- `frequency` \n",
    "    \n",
    "Ví dụ: `data['at']=[url_idx_list,frequency]`:\n",
    "- `url_idx_list`: danh sách các url mà trong dữ liệu của chúng (html document) chứa từ \"at\". \n",
    "- `frequency`: tần suất xuất hiện (số lần xuất hiện) của từ `at` trong dữ liệu của **tất cả đường dẫn thu được**.   "
   ]
  },
  {
   "cell_type": "code",
   "execution_count": 3,
   "metadata": {
    "id": "YB5nIZAhQr7-"
   },
   "outputs": [],
   "source": [
    "def text_filter(element):\n",
    "    \n",
    "    # TODO\n",
    "    # Cài đặt lại như Lab02\n",
    "    if element.parent.name in ['style', 'title', 'script', 'head', '[document]', 'class', 'a', 'li']:\n",
    "        return False\n",
    "    elif isinstance(element, Comment):\n",
    "        '''Opinion mining?'''\n",
    "        return False\n",
    "    elif re.match(r\"[\\s\\r\\n]+\",str(element)): \n",
    "        '''space, return, endline'''\n",
    "        return False\n",
    "    return True\n",
    "\n",
    "def wordList(url):\n",
    "    \n",
    "    # TODO\n",
    "    # Cài đặt lại như Lab02\n",
    "    r = requests.get(url)\n",
    "    soup = BeautifulSoup(r.content, \"html.parser\")\n",
    "    text = soup.findAll(text=True)\n",
    "    filtered_text = list(filter(text_filter, text)) # list của các chuỗi\n",
    "    word_list = []\n",
    "\n",
    "    for strg in filtered_text: \n",
    "      new_strg = strg.replace(string.punctuation, \" \")\n",
    "      words = new_strg.split()\n",
    "      word_list.extend(words)\n",
    "\n",
    "    return word_list\n",
    "\n",
    "def read_url(url, url_idx, data):\n",
    "    # TODO\n",
    "    # Cài đặt lại như Lab02\n",
    "    word_list = wordList(url)\n",
    "\n",
    "    for word in word_list:\n",
    "      if word not in data:\n",
    "        data[word] = [[url_idx], 1]\n",
    "      else:\n",
    "        if url_idx not in data[word][0]:\n",
    "          data[word][0].append(url_idx)\n",
    "        data[word][1]+=1"
   ]
  },
  {
   "cell_type": "code",
   "execution_count": 6,
   "metadata": {
    "id": "LrPuiiDhQfrJ"
   },
   "outputs": [
    {
     "name": "stderr",
     "output_type": "stream",
     "text": [
      "Some characters could not be decoded, and were replaced with REPLACEMENT CHARACTER.\n"
     ]
    }
   ],
   "source": [
    "data = {}\n",
    "for url_index, url in enumerate(url_list, 1):\n",
    "    read_url(url, url_index, data)"
   ]
  },
  {
   "cell_type": "markdown",
   "metadata": {
    "id": "740eXy7pRryx"
   },
   "source": [
    "## 3. Tiền xử lý\n",
    "Loại bỏ các item trong data mà key là các stopword.\n",
    "\n",
    "**Ngữ liệu:** "
   ]
  },
  {
   "cell_type": "code",
   "execution_count": 7,
   "metadata": {
    "colab": {
     "base_uri": "https://localhost:8080/"
    },
    "id": "hC58K3Q3Rryy",
    "outputId": "99a20ea5-89c3-4d93-c74f-e43636b9b1cf"
   },
   "outputs": [
    {
     "name": "stderr",
     "output_type": "stream",
     "text": [
      "[nltk_data] Downloading package stopwords to\n",
      "[nltk_data]     C:\\Users\\DELL\\AppData\\Roaming\\nltk_data...\n"
     ]
    },
    {
     "name": "stdout",
     "output_type": "stream",
     "text": [
      "['i', 'me', 'my', 'myself', 'we', 'our', 'ours', 'ourselves', 'you', \"you're\", \"you've\", \"you'll\", \"you'd\", 'your', 'yours', 'yourself', 'yourselves', 'he', 'him', 'his', 'himself', 'she', \"she's\", 'her', 'hers', 'herself', 'it', \"it's\", 'its', 'itself', 'they', 'them', 'their', 'theirs', 'themselves', 'what', 'which', 'who', 'whom', 'this', 'that', \"that'll\", 'these', 'those', 'am', 'is', 'are', 'was', 'were', 'be', 'been', 'being', 'have', 'has', 'had', 'having', 'do', 'does', 'did', 'doing', 'a', 'an', 'the', 'and', 'but', 'if', 'or', 'because', 'as', 'until', 'while', 'of', 'at', 'by', 'for', 'with', 'about', 'against', 'between', 'into', 'through', 'during', 'before', 'after', 'above', 'below', 'to', 'from', 'up', 'down', 'in', 'out', 'on', 'off', 'over', 'under', 'again', 'further', 'then', 'once', 'here', 'there', 'when', 'where', 'why', 'how', 'all', 'any', 'both', 'each', 'few', 'more', 'most', 'other', 'some', 'such', 'no', 'nor', 'not', 'only', 'own', 'same', 'so', 'than', 'too', 'very', 's', 't', 'can', 'will', 'just', 'don', \"don't\", 'should', \"should've\", 'now', 'd', 'll', 'm', 'o', 're', 've', 'y', 'ain', 'aren', \"aren't\", 'couldn', \"couldn't\", 'didn', \"didn't\", 'doesn', \"doesn't\", 'hadn', \"hadn't\", 'hasn', \"hasn't\", 'haven', \"haven't\", 'isn', \"isn't\", 'ma', 'mightn', \"mightn't\", 'mustn', \"mustn't\", 'needn', \"needn't\", 'shan', \"shan't\", 'shouldn', \"shouldn't\", 'wasn', \"wasn't\", 'weren', \"weren't\", 'won', \"won't\", 'wouldn', \"wouldn't\"]\n"
     ]
    },
    {
     "name": "stderr",
     "output_type": "stream",
     "text": [
      "[nltk_data]   Unzipping corpora\\stopwords.zip.\n"
     ]
    }
   ],
   "source": [
    "import nltk\n",
    "nltk.download('stopwords')\n",
    "from nltk.corpus import stopwords\n",
    "english_stopwords = stopwords.words('english')\n",
    "print(english_stopwords)"
   ]
  },
  {
   "cell_type": "code",
   "execution_count": 8,
   "metadata": {
    "id": "cylo7trpRnun"
   },
   "outputs": [],
   "source": [
    "# TODO\n",
    "# Loại bỏ các key của biến data mà nằm trong danh sách english_stopwords\n",
    "for val in list(data):\n",
    "    if val in english_stopwords:\n",
    "        del data[val]"
   ]
  },
  {
   "cell_type": "markdown",
   "metadata": {
    "id": "CEoxNVHqRry2"
   },
   "source": [
    "## 4. Lưu trữ và biểu diễn dữ liệu\n",
    "Sử dụng pickle lưu lại data với tên file raw_data.\n",
    "### 4.1 Cơ sở dữ liệu giao tác:\n",
    "Thông thường, các cơ sở dữ liệu giao tác được lưu trong flat files (các tập phẳng) thay vì trong một hệ cơ sở dữ liệu. Các item là các số nguyên không âm, mỗi giao tác tương ứng với một dòng các số nguyên phân tách nhau bằng khoảng trắng.\n",
    "Ví dụ:\n",
    "\n",
    "0 1 2 3 4 5 6 7 8 9 10 11 12 13 14 15 16 17 18 19 20 21 22 23 24 25 26 27 28 29 \n",
    "\n",
    "30 31 32 \n",
    "\n",
    "33 34 35 \n",
    "\n",
    "36 37 38 39 40 41 42 43 44 45 46 \n",
    "\n",
    "38 39 47 48 \n",
    "\n",
    "38 39 48 49 50 51 52 53 54 55 56 57 58 \n",
    "\n",
    "32 41 59 60 61 62 \n",
    "\n",
    "3 39 48 \n",
    "\n",
    "63 64 65 66 67 68 \n",
    "\n",
    "32 69 \n",
    "\n",
    "48 70 71 72 \n",
    "\n",
    "39 73 74 75 76 77 78 79 \n",
    "\n",
    "36 38 39 41 48 79 80 81 \n",
    "\n",
    "82 83 84 \n",
    "\n",
    "41 85 86 87 88 \n",
    "\n",
    "39 48 89 90 91 92 93 94 95 96 97 98 99 100 101 \n",
    "\n",
    "36 38 39 48 89 \n",
    "\n",
    "39 41 102 103 104 105 106 107 108 \n",
    "\n",
    "38 39 41 109 110 \n",
    "\n",
    "39 111 112 113 114 115 116 117 118 \n",
    "\n",
    "119 120 121 122 123 124 125 126 127 128 129 130 131 132 133 \n",
    "\n",
    "48 134 135 136 \n",
    "\n",
    "39 48 137 138 139 140 141 142 143 144 145 146 147 148 149 \n",
    "\n",
    "39 150 151 152 \n",
    "\n",
    "38 39 56 153 154 155 "
   ]
  },
  {
   "cell_type": "code",
   "execution_count": null,
   "metadata": {
    "id": "4l--TVLEoN7R"
   },
   "outputs": [],
   "source": [
    "with open('raw_data', 'wb') as f:\n",
    "    # TODO\n",
    "    pickle.dump(data, f)"
   ]
  },
  {
   "cell_type": "markdown",
   "metadata": {
    "id": "QvUgw0VkRry3"
   },
   "source": [
    "### 4.2 Xuất dataset\n",
    "Lưu một cơ sở dữ liệu giao tác (transactional database) vào file t_data.txt: \n",
    "- Các item tương ứng với url_idx\n",
    "- Mỗi transaction tương ứng với một từ."
   ]
  },
  {
   "cell_type": "code",
   "execution_count": null,
   "metadata": {
    "id": "ZorK46LdSCfi"
   },
   "outputs": [],
   "source": [
    "with open('t_data.txt', 'w') as f:\n",
    "    for word, (url_list, freq) in data.items():\n",
    "        print(*url_list, file=f)"
   ]
  },
  {
   "cell_type": "markdown",
   "metadata": {
    "id": "2OXVFoHiRry3"
   },
   "source": [
    "## 5. Truy vấn and, or, not\n",
    "Ví dụ: \n",
    "- Truy vấn `and` câu `web mining`: trả về đường dẫn tới các trang web có cả 2 từ web và từ mining. \n",
    "- Truy vấn `or` câu `web mining`: trả về đường dẫn tới các trang web có từ web hoặc từ mining.\n",
    "- Truy vấn `not` câu `web mining`: trả về đường dẫn tới các trang không có cả từ web và từ mining.\n",
    "\n",
    "*GỢI Ý: TÁCH CÂU TRUY VẤN THÀNH CÁC TỪ TƯƠNG TỰ PHƯƠNG PHÁP LÀM Ở LAB02.*"
   ]
  },
  {
   "cell_type": "code",
   "execution_count": 12,
   "metadata": {
    "id": "sybM0yLHRry6"
   },
   "outputs": [],
   "source": [
    "ret=[]\n",
    "def andRetrieval(ret, sentence):\n",
    "    '''Parameters\n",
    "    -----------------------\n",
    "    ret: url_list\n",
    "    sentence: query'''\n",
    "    # TODO\n",
    "    ### split sentence (separator ' ') into terms\n",
    "    ### find urls have all terms: urls\n",
    "    ### if len(ret)==0:  return urls\n",
    "    ### else update ret with urls: intersection of ret and urls \n",
    "    terms = sentence.split(' ')\n",
    "    \n",
    "    for term in terms:\n",
    "        if term not in data:\n",
    "            return []\n",
    "    urls = data[terms[0]][0]\n",
    "    for term in terms[1:]:\n",
    "        urls = [url for url in urls if url in data[term][0]]\n",
    "    if len(ret) == 0:\n",
    "        return urls\n",
    "    else:\n",
    "        return [url for url in ret if url in urls]\n",
    "\n",
    "\n",
    "\n",
    "def orRetrieval(ret, sentence):\n",
    "    '''Parameters\n",
    "    -----------------------\n",
    "    ret: url_list\n",
    "    sentence: query'''\n",
    "    # TODO\n",
    "    ### split sentence (separator ' ') into terms\n",
    "    ### find urls have all terms: urls\n",
    "    ### find urls have at least 1 term: urls\n",
    "    ### update ret with urls: extend ret with urls\n",
    "    terms = sentence.split(' ')\n",
    "    for term in terms:\n",
    "        if term not in data:\n",
    "            return []\n",
    "    urls = data[terms[0]][0]\n",
    "    for term in terms[1:]:\n",
    "        urls = [url for url in urls if url in data[term][0]]\n",
    "\n",
    "    for term in terms:\n",
    "        if term in data:\n",
    "            if data[term][0] not in urls:\n",
    "                urls.extend(data[term][0])\n",
    "    if len(ret) == 0:\n",
    "        return urls\n",
    "    else:\n",
    "        return ret.extend(urls)\n",
    "\n",
    "\n",
    "def notRetrieval(ret, sentence):\n",
    "    '''Parameters\n",
    "    -----------------------\n",
    "    ret: url_list\n",
    "    sentence: query'''\n",
    "    # TODO\n",
    "    ### split sentence (separator ' ') into terms\n",
    "    ### find urls have at least 1 term: urls\n",
    "    ### update ret with urls: remove urls from ret \n",
    "    terms = sentence.split(' ')\n",
    "    urls = []\n",
    "    for term in terms:\n",
    "        if term in data:\n",
    "            if data[term][0] not in urls:\n",
    "                urls.extend(data[term][0])\n",
    "    if len(ret) == 0:\n",
    "        return urls\n",
    "    else:\n",
    "        return [url for url in ret if url not in urls]"
   ]
  },
  {
   "cell_type": "code",
   "execution_count": 13,
   "metadata": {
    "id": "1hkp7ej3qxRQ"
   },
   "outputs": [
    {
     "name": "stdout",
     "output_type": "stream",
     "text": [
      "[1, 8, 18, 24, 51, 76, 84]\n",
      "[1, 8, 18, 24, 51, 76, 84, 1, 2, 8, 15, 18, 24, 51, 76, 84, 1, 5, 6, 7, 8, 9, 10, 11, 12, 13, 16, 17, 18, 20, 22, 23, 24, 25, 26, 27, 33, 34, 35, 36, 37, 40, 41, 42, 43, 44, 45, 47, 48, 49, 50, 51, 52, 53, 54, 55, 56, 57, 60, 61, 62, 63, 64, 68, 69, 76, 79, 80, 81, 83, 84, 89, 90]\n",
      "['https://en.wikipedia.org/wiki/Web_mining', 'https://donate.wikimedia.org/wiki/Special:FundraiserRedirector?utm_source=donate&utm_medium=sidebar&utm_campaign=C13_en.wikipedia.org&uselang=en', 'https://ar.wikipedia.org/wiki/%D8%AA%D9%86%D9%82%D9%8A%D8%A8_%D9%81%D9%8A_%D8%A7%D9%84%D8%A8%D9%8A%D8%A7%D9%86%D8%A7%D8%AA', 'https://as.wikipedia.org/wiki/%E0%A6%A1%E0%A7%87%E0%A6%9F%E0%A6%BE_%E0%A6%AE%E0%A6%BE%E0%A6%87%E0%A6%A8%E0%A6%BF%E0%A6%82', 'https://az.wikipedia.org/wiki/Data_mining', 'https://bn.wikipedia.org/wiki/%E0%A6%89%E0%A6%AA%E0%A6%BE%E0%A6%A4%E0%A7%8D%E0%A6%A4_%E0%A6%96%E0%A6%A8%E0%A6%A8', 'https://bg.wikipedia.org/wiki/%D0%98%D0%B7%D0%B2%D0%BB%D0%B8%D1%87%D0%B0%D0%BD%D0%B5_%D0%BD%D0%B0_%D0%B7%D0%BD%D0%B0%D0%BD%D0%B8%D1%8F_%D0%BE%D1%82_%D0%B4%D0%B0%D0%BD%D0%BD%D0%B8', 'https://ca.wikipedia.org/wiki/Mineria_de_dades', 'https://cs.wikipedia.org/wiki/Data_mining', 'https://cy.wikipedia.org/wiki/Cloddio_data', 'https://da.wikipedia.org/wiki/Data_mining', 'https://de.wikipedia.org/wiki/Data-Mining', 'https://et.wikipedia.org/wiki/Andmekaeve', 'https://el.wikipedia.org/wiki/%CE%95%CE%BE%CF%8C%CF%81%CF%85%CE%BE%CE%B7_%CE%B4%CE%B5%CE%B4%CE%BF%CE%BC%CE%AD%CE%BD%CF%89%CE%BD', 'https://es.wikipedia.org/wiki/Miner%C3%ADa_de_datos', 'https://eu.wikipedia.org/wiki/Datu-meatzaritza', 'https://fa.wikipedia.org/wiki/%D8%AF%D8%A7%D8%AF%D9%87%E2%80%8C%DA%A9%D8%A7%D9%88%DB%8C', 'https://fr.wikipedia.org/wiki/Exploration_de_donn%C3%A9es', 'https://ko.wikipedia.org/wiki/%EB%8D%B0%EC%9D%B4%ED%84%B0_%EB%A7%88%EC%9D%B4%EB%8B%9D', 'https://hy.wikipedia.org/wiki/%D5%8F%D5%BE%D5%B5%D5%A1%D5%AC%D5%B6%D5%A5%D6%80%D5%AB_%D5%B4%D5%A1%D5%B5%D5%B6%D5%AB%D5%B6%D5%A3', 'https://hi.wikipedia.org/wiki/%E0%A4%86%E0%A4%81%E0%A4%95%E0%A4%A1%E0%A4%BC%E0%A4%BE_%E0%A4%96%E0%A4%A8%E0%A4%A8', 'https://hr.wikipedia.org/wiki/Rudarenje_podataka', 'https://id.wikipedia.org/wiki/Penggalian_data', 'https://it.wikipedia.org/wiki/Data_mining', 'https://he.wikipedia.org/wiki/%D7%9B%D7%A8%D7%99%D7%99%D7%AA_%D7%9E%D7%99%D7%93%D7%A2', 'https://kn.wikipedia.org/wiki/%E0%B2%A6%E0%B2%A4%E0%B3%8D%E0%B2%A4%E0%B2%BE%E0%B2%82%E0%B2%B6_%E0%B2%97%E0%B2%A3%E0%B2%BF%E0%B2%97%E0%B2%BE%E0%B2%B0%E0%B2%BF%E0%B2%95%E0%B3%86', 'https://lv.wikipedia.org/wiki/Datizrace', 'https://hu.wikipedia.org/wiki/Adatb%C3%A1ny%C3%A1szat', 'https://mk.wikipedia.org/wiki/%D0%9F%D0%BE%D0%B4%D0%B0%D1%82%D0%BE%D1%87%D0%BD%D0%BE_%D1%80%D1%83%D0%B4%D0%B0%D1%80%D0%B5%D1%9A%D0%B5', 'https://ml.wikipedia.org/wiki/%E0%B4%A1%E0%B4%BE%E0%B4%B1%E0%B5%8D%E0%B4%B1%E0%B4%BE_%E0%B4%AE%E0%B5%88%E0%B4%A8%E0%B4%BF%E0%B4%99%E0%B5%8D%E0%B4%99%E0%B5%8D', 'https://mr.wikipedia.org/wiki/%E0%A4%B5%E0%A4%BF%E0%A4%A6%E0%A4%BE_%E0%A4%89%E0%A4%A4%E0%A5%8D%E0%A4%96%E0%A4%A8%E0%A4%A8', 'https://ms.wikipedia.org/wiki/Perlombongan_data', 'https://mn.wikipedia.org/wiki/Data_mining', 'https://my.wikipedia.org/wiki/%E1%80%92%E1%80%B1%E1%80%90%E1%80%AC%E1%80%90%E1%80%B0%E1%80%B8%E1%80%96%E1%80%B1%E1%80%AC%E1%80%BA%E1%80%81%E1%80%BC%E1%80%84%E1%80%BA%E1%80%B8', 'https://nl.wikipedia.org/wiki/Datamining', 'https://ja.wikipedia.org/wiki/%E3%83%87%E3%83%BC%E3%82%BF%E3%83%9E%E3%82%A4%E3%83%8B%E3%83%B3%E3%82%B0', 'https://no.wikipedia.org/wiki/Informasjonsutvinning', 'https://nn.wikipedia.org/wiki/Datautvinning', 'https://pl.wikipedia.org/wiki/Eksploracja_danych', 'https://pt.wikipedia.org/wiki/Minera%C3%A7%C3%A3o_de_dados', 'https://ro.wikipedia.org/wiki/Extragerea_de_cuno%C8%99tin%C8%9Be_din_date', 'https://ru.wikipedia.org/wiki/Data_mining', 'https://sq.wikipedia.org/wiki/Minimi_i_t%C3%AB_dh%C3%ABnave', 'https://simple.wikipedia.org/wiki/Data_mining', 'https://sk.wikipedia.org/wiki/H%C4%BAbkov%C3%A1_anal%C3%BDza_d%C3%A1t', 'https://sl.wikipedia.org/wiki/Podatkovno_rudarjenje', 'https://sr.wikipedia.org/wiki/Istra%C5%BEivanje_podataka', 'https://sh.wikipedia.org/wiki/Analiza_podataka', 'https://su.wikipedia.org/wiki/Data_mining', 'https://fi.wikipedia.org/wiki/Tiedonlouhinta', 'https://sv.wikipedia.org/wiki/Datautvinning', 'https://ta.wikipedia.org/wiki/%E0%AE%A4%E0%AE%B0%E0%AE%B5%E0%AF%81%E0%AE%9A%E0%AF%8D_%E0%AE%9A%E0%AF%86%E0%AE%AF%E0%AE%B2%E0%AE%BE%E0%AE%95%E0%AF%8D%E0%AE%95%E0%AE%AE%E0%AF%8D', 'https://th.wikipedia.org/wiki/%E0%B8%81%E0%B8%B2%E0%B8%A3%E0%B8%97%E0%B8%B3%E0%B9%80%E0%B8%AB%E0%B8%A1%E0%B8%B7%E0%B8%AD%E0%B8%87%E0%B8%82%E0%B9%89%E0%B8%AD%E0%B8%A1%E0%B8%B9%E0%B8%A5', 'https://tg.wikipedia.org/wiki/%D0%94%D0%BE%D0%B4%D0%B0%D0%BA%D0%BE%D0%B2%D3%A3', 'https://tr.wikipedia.org/wiki/Veri_madencili%C4%9Fi', 'https://uk.wikipedia.org/wiki/%D0%94%D0%BE%D0%B1%D1%83%D0%B2%D0%B0%D0%BD%D0%BD%D1%8F_%D0%B4%D0%B0%D0%BD%D0%B8%D1%85', 'https://vi.wikipedia.org/wiki/Khai_ph%C3%A1_d%E1%BB%AF_li%E1%BB%87u', 'https://wuu.wikipedia.org/wiki/%E6%95%B0%E6%8D%AE%E6%8C%96%E6%8E%98', 'https://yi.wikipedia.org/wiki/%D7%93%D7%90%D7%98%D7%9F_%D7%92%D7%A8%D7%90%D7%91%D7%9F', 'https://zh-yue.wikipedia.org/wiki/%E6%95%B8%E6%93%9A%E6%8E%A2%E5%8B%98', 'https://zh.wikipedia.org/wiki/%E6%95%B0%E6%8D%AE%E6%8C%96%E6%8E%98', 'https://www.wikidata.org/wiki/Special:EntityPage/Q172491#sitelinks-wikipedia', 'https://www.wikidata.org/wiki/Special:EntityPage/Q172491', 'https://commons.wikimedia.org/wiki/Category:Data_mining', 'https://en.wikipedia.org/w/index.php?title=Template:Machine_learning&action=edit', 'https://en.wiktionary.org/wiki/automatic', 'http://www.kdnuggets.com/meetings/kdd89/', 'http://www.kdd.org/curriculum/index.html', 'https://www.britannica.com/EBchecked/topic/1056150/data-mining', 'https://web.archive.org/web/20091110212529/http://www-stat.stanford.edu/~tibs/ElemStatLearn/', 'http://www-stat.stanford.edu/~tibs/ElemStatLearn/', 'http://www.kdnuggets.com/gpspubs/aimag-kdd-overview-1996-Fayyad.pdf', 'https://ghostarchive.org/archive/20221009/http://www.kdnuggets.com/gpspubs/aimag-kdd-overview-1996-Fayyad.pdf', 'http://www.okairp.org/documents/2005%20Fall/F05_ROMEDataQualityETC.pdf', 'https://web.archive.org/web/20140201170452/http://www.okairp.org/documents/2005%20Fall/F05_ROMEDataQualityETC.pdf', 'https://doi.org/10.1007%2Fs11628-006-0014-7', 'https://doi.org/10.2307%2F1924403', 'https://www.jstor.org/stable/1924403', 'http://www.kdnuggets.com/data_mining_course/x1-intro-to-data-mining-notes.html', 'https://www.cambridge.org/core/product/identifier/S0269888910000378/type/journal_article', 'https://doi.org/10.1017%2FS0269888910000378', 'https://www.worldcat.org/issn/0269-8889', 'https://api.semanticscholar.org/CorpusID:6487637', 'https://archive.org/details/dataminingconcep0000kant', 'https://www.worldcat.org/oclc/50055336', 'http://www.kdnuggets.com/polls/2002/methodology.htm', 'http://www.kdnuggets.com/polls/2004/data_mining_methodology.htm', 'http://www.kdnuggets.com/polls/2007/data_mining_methodology.htm', 'http://www.kdnuggets.com/polls/2014/analytics-data-mining-data-science-methodology.html', 'http://journals.cambridge.org/action/displayAbstract?fromPage=online&aid=451120']\n"
     ]
    }
   ],
   "source": [
    "print(andRetrieval([], 'web mining'))\n",
    "print(orRetrieval([], 'web mining'))\n",
    "print(notRetrieval(url_list, 'web mining'))"
   ]
  }
 ],
 "metadata": {
  "colab": {
   "collapsed_sections": [],
   "name": "Copy of Lab03-WebCrawler.ipynb",
   "provenance": [],
   "toc_visible": true
  },
  "kernelspec": {
   "display_name": "Python 3 (ipykernel)",
   "language": "python",
   "name": "python3"
  },
  "language_info": {
   "codemirror_mode": {
    "name": "ipython",
    "version": 3
   },
   "file_extension": ".py",
   "mimetype": "text/x-python",
   "name": "python",
   "nbconvert_exporter": "python",
   "pygments_lexer": "ipython3",
   "version": "3.8.8"
  }
 },
 "nbformat": 4,
 "nbformat_minor": 1
}
